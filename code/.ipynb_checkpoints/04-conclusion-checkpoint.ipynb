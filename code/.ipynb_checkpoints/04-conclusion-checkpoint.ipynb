{
 "cells": [
  {
   "cell_type": "markdown",
   "metadata": {},
   "source": [
    "# Conclusion"
   ]
  },
  {
   "cell_type": "markdown",
   "metadata": {},
   "source": [
    "The results indicate that no single feature had the biggest effect on sale price. Rather, the synergies created between interaction terms contributed the most value to sale price. Based on my production model, the top 5 interaction terms include: (1) neighborhood and total basement square footage, (2) living area above ground and full bath, (3) living area above ground and kitchen quality, (4) overall quality and living area above ground, and (5) neighborhood and living area above ground. Unfortunately, many of these features cannot be changed in a practical way for homeowners. Thus, I would recommend that real estate agents and homeowners focus their efforts on renovating the kitchen because a higher rating on kitchen quality can create synergies capable of increasing the sale price.\n",
    "\n",
    "**Note:** I exclude many features in my recommendation because features like living area above ground are not something that can be altered once the house is built."
   ]
  },
  {
   "cell_type": "markdown",
   "metadata": {},
   "source": [
    "### Future Steps"
   ]
  },
  {
   "cell_type": "markdown",
   "metadata": {},
   "source": [
    "In order to improve the RMSE of the model, I would recommend building separate, tiered models that focus on a specific price range of houses. Given the presence of outliers in sale price, a generic regression model does not have the best predictive capability in determining housing sale prices with large ranges."
   ]
  }
 ],
 "metadata": {
  "kernelspec": {
   "display_name": "Python 3",
   "language": "python",
   "name": "python3"
  },
  "language_info": {
   "codemirror_mode": {
    "name": "ipython",
    "version": 3
   },
   "file_extension": ".py",
   "mimetype": "text/x-python",
   "name": "python",
   "nbconvert_exporter": "python",
   "pygments_lexer": "ipython3",
   "version": "3.8.5"
  }
 },
 "nbformat": 4,
 "nbformat_minor": 4
}

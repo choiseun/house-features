{
 "cells": [
  {
   "cell_type": "markdown",
   "metadata": {},
   "source": [
    "# Pre-Processing, Modeling & Data Visualization"
   ]
  },
  {
   "cell_type": "markdown",
   "metadata": {},
   "source": [
    "### Pre-Processing"
   ]
  },
  {
   "cell_type": "code",
   "execution_count": 1,
   "metadata": {},
   "outputs": [],
   "source": [
    "# Imports\n",
    "import numpy as np\n",
    "import pandas as pd\n",
    "import matplotlib.pyplot as plt\n",
    "import seaborn as sns\n",
    "from sklearn.linear_model import LinearRegression, Ridge, RidgeCV, Lasso, LassoCV\n",
    "from sklearn.neighbors import KNeighborsRegressor\n",
    "from sklearn import metrics\n",
    "from sklearn.metrics import r2_score, mean_squared_error\n",
    "from sklearn.model_selection import train_test_split, cross_val_score, GridSearchCV\n",
    "from sklearn.preprocessing import PolynomialFeatures, StandardScaler\n",
    "from scipy import stats\n",
    "from sklearn.pipeline import Pipeline"
   ]
  },
  {
   "cell_type": "code",
   "execution_count": 2,
   "metadata": {},
   "outputs": [
    {
     "data": {
      "text/html": [
       "<div>\n",
       "<style scoped>\n",
       "    .dataframe tbody tr th:only-of-type {\n",
       "        vertical-align: middle;\n",
       "    }\n",
       "\n",
       "    .dataframe tbody tr th {\n",
       "        vertical-align: top;\n",
       "    }\n",
       "\n",
       "    .dataframe thead th {\n",
       "        text-align: right;\n",
       "    }\n",
       "</style>\n",
       "<table border=\"1\" class=\"dataframe\">\n",
       "  <thead>\n",
       "    <tr style=\"text-align: right;\">\n",
       "      <th></th>\n",
       "      <th>id</th>\n",
       "      <th>pid</th>\n",
       "      <th>ms_subclass</th>\n",
       "      <th>ms_zoning</th>\n",
       "      <th>lot_frontage</th>\n",
       "      <th>lot_area</th>\n",
       "      <th>street</th>\n",
       "      <th>alley</th>\n",
       "      <th>lot_shape</th>\n",
       "      <th>land_contour</th>\n",
       "      <th>...</th>\n",
       "      <th>pool_area</th>\n",
       "      <th>pool_qc</th>\n",
       "      <th>fence</th>\n",
       "      <th>misc_feature</th>\n",
       "      <th>misc_val</th>\n",
       "      <th>mo_sold</th>\n",
       "      <th>yr_sold</th>\n",
       "      <th>sale_type</th>\n",
       "      <th>saleprice</th>\n",
       "      <th>mod_neighborhood</th>\n",
       "    </tr>\n",
       "  </thead>\n",
       "  <tbody>\n",
       "    <tr>\n",
       "      <th>0</th>\n",
       "      <td>109</td>\n",
       "      <td>533352170</td>\n",
       "      <td>60</td>\n",
       "      <td>RL</td>\n",
       "      <td>0.0</td>\n",
       "      <td>13517</td>\n",
       "      <td>Pave</td>\n",
       "      <td>NA</td>\n",
       "      <td>3</td>\n",
       "      <td>Lvl</td>\n",
       "      <td>...</td>\n",
       "      <td>0</td>\n",
       "      <td>0</td>\n",
       "      <td>0</td>\n",
       "      <td>NA</td>\n",
       "      <td>0</td>\n",
       "      <td>3</td>\n",
       "      <td>2010</td>\n",
       "      <td>WD</td>\n",
       "      <td>130500</td>\n",
       "      <td>2</td>\n",
       "    </tr>\n",
       "  </tbody>\n",
       "</table>\n",
       "<p>1 rows × 82 columns</p>\n",
       "</div>"
      ],
      "text/plain": [
       "    id        pid  ms_subclass ms_zoning  lot_frontage  lot_area street alley  \\\n",
       "0  109  533352170           60        RL           0.0     13517   Pave    NA   \n",
       "\n",
       "   lot_shape land_contour  ...  pool_area pool_qc  fence misc_feature  \\\n",
       "0          3          Lvl  ...          0       0      0           NA   \n",
       "\n",
       "  misc_val mo_sold yr_sold sale_type  saleprice  mod_neighborhood  \n",
       "0        0       3    2010       WD      130500                 2  \n",
       "\n",
       "[1 rows x 82 columns]"
      ]
     },
     "execution_count": 2,
     "metadata": {},
     "output_type": "execute_result"
    }
   ],
   "source": [
    "# Read the data\n",
    "cleaned_data = pd.read_csv('../datasets/cleaned_data.csv', na_values=[''], keep_default_na=False)\n",
    "cleaned_data.head(1)"
   ]
  },
  {
   "cell_type": "code",
   "execution_count": 3,
   "metadata": {},
   "outputs": [
    {
     "data": {
      "text/plain": [
       "0"
      ]
     },
     "execution_count": 3,
     "metadata": {},
     "output_type": "execute_result"
    }
   ],
   "source": [
    "# Check missing values\n",
    "cleaned_data.isnull().sum().sum()"
   ]
  },
  {
   "cell_type": "code",
   "execution_count": 4,
   "metadata": {},
   "outputs": [
    {
     "data": {
      "text/plain": [
       "61"
      ]
     },
     "execution_count": 4,
     "metadata": {},
     "output_type": "execute_result"
    }
   ],
   "source": [
    "# Number of numeric columns in cleaned_data\n",
    "len(cleaned_data._get_numeric_data().columns)"
   ]
  },
  {
   "cell_type": "code",
   "execution_count": 5,
   "metadata": {},
   "outputs": [
    {
     "name": "stdout",
     "output_type": "stream",
     "text": [
      "21\n",
      "['ms_zoning', 'street', 'alley', 'land_contour', 'lot_config', 'neighborhood', 'condition_1', 'condition_2', 'bldg_type', 'house_style', 'roof_style', 'roof_matl', 'exterior_1st', 'exterior_2nd', 'mas_vnr_type', 'foundation', 'heating', 'central_air', 'garage_type', 'misc_feature', 'sale_type']\n"
     ]
    }
   ],
   "source": [
    "# Categorical columns in cleaned_data\n",
    "cat_col = []\n",
    "for column in cleaned_data.columns:\n",
    "    if column not in cleaned_data._get_numeric_data().columns:\n",
    "        cat_col.append(column)\n",
    "print(len(cat_col))\n",
    "print(cat_col)"
   ]
  },
  {
   "cell_type": "code",
   "execution_count": 6,
   "metadata": {},
   "outputs": [
    {
     "data": {
      "text/html": [
       "<div>\n",
       "<style scoped>\n",
       "    .dataframe tbody tr th:only-of-type {\n",
       "        vertical-align: middle;\n",
       "    }\n",
       "\n",
       "    .dataframe tbody tr th {\n",
       "        vertical-align: top;\n",
       "    }\n",
       "\n",
       "    .dataframe thead th {\n",
       "        text-align: right;\n",
       "    }\n",
       "</style>\n",
       "<table border=\"1\" class=\"dataframe\">\n",
       "  <thead>\n",
       "    <tr style=\"text-align: right;\">\n",
       "      <th></th>\n",
       "      <th>id</th>\n",
       "      <th>pid</th>\n",
       "      <th>ms_subclass</th>\n",
       "      <th>lot_frontage</th>\n",
       "      <th>lot_area</th>\n",
       "      <th>lot_shape</th>\n",
       "      <th>utilities</th>\n",
       "      <th>land_slope</th>\n",
       "      <th>overall_qual</th>\n",
       "      <th>overall_cond</th>\n",
       "      <th>...</th>\n",
       "      <th>misc_feature_Shed</th>\n",
       "      <th>misc_feature_TenC</th>\n",
       "      <th>sale_type_CWD</th>\n",
       "      <th>sale_type_Con</th>\n",
       "      <th>sale_type_ConLD</th>\n",
       "      <th>sale_type_ConLI</th>\n",
       "      <th>sale_type_ConLw</th>\n",
       "      <th>sale_type_New</th>\n",
       "      <th>sale_type_Oth</th>\n",
       "      <th>sale_type_WD</th>\n",
       "    </tr>\n",
       "  </thead>\n",
       "  <tbody>\n",
       "    <tr>\n",
       "      <th>0</th>\n",
       "      <td>109</td>\n",
       "      <td>533352170</td>\n",
       "      <td>60</td>\n",
       "      <td>0.0</td>\n",
       "      <td>13517</td>\n",
       "      <td>3</td>\n",
       "      <td>4</td>\n",
       "      <td>3</td>\n",
       "      <td>6</td>\n",
       "      <td>8</td>\n",
       "      <td>...</td>\n",
       "      <td>0</td>\n",
       "      <td>0</td>\n",
       "      <td>0</td>\n",
       "      <td>0</td>\n",
       "      <td>0</td>\n",
       "      <td>0</td>\n",
       "      <td>0</td>\n",
       "      <td>0</td>\n",
       "      <td>0</td>\n",
       "      <td>1</td>\n",
       "    </tr>\n",
       "    <tr>\n",
       "      <th>1</th>\n",
       "      <td>544</td>\n",
       "      <td>531379050</td>\n",
       "      <td>60</td>\n",
       "      <td>43.0</td>\n",
       "      <td>11492</td>\n",
       "      <td>3</td>\n",
       "      <td>4</td>\n",
       "      <td>3</td>\n",
       "      <td>7</td>\n",
       "      <td>5</td>\n",
       "      <td>...</td>\n",
       "      <td>0</td>\n",
       "      <td>0</td>\n",
       "      <td>0</td>\n",
       "      <td>0</td>\n",
       "      <td>0</td>\n",
       "      <td>0</td>\n",
       "      <td>0</td>\n",
       "      <td>0</td>\n",
       "      <td>0</td>\n",
       "      <td>1</td>\n",
       "    </tr>\n",
       "    <tr>\n",
       "      <th>2</th>\n",
       "      <td>153</td>\n",
       "      <td>535304180</td>\n",
       "      <td>20</td>\n",
       "      <td>68.0</td>\n",
       "      <td>7922</td>\n",
       "      <td>4</td>\n",
       "      <td>4</td>\n",
       "      <td>3</td>\n",
       "      <td>5</td>\n",
       "      <td>7</td>\n",
       "      <td>...</td>\n",
       "      <td>0</td>\n",
       "      <td>0</td>\n",
       "      <td>0</td>\n",
       "      <td>0</td>\n",
       "      <td>0</td>\n",
       "      <td>0</td>\n",
       "      <td>0</td>\n",
       "      <td>0</td>\n",
       "      <td>0</td>\n",
       "      <td>1</td>\n",
       "    </tr>\n",
       "  </tbody>\n",
       "</table>\n",
       "<p>3 rows × 200 columns</p>\n",
       "</div>"
      ],
      "text/plain": [
       "    id        pid  ms_subclass  lot_frontage  lot_area  lot_shape  utilities  \\\n",
       "0  109  533352170           60           0.0     13517          3          4   \n",
       "1  544  531379050           60          43.0     11492          3          4   \n",
       "2  153  535304180           20          68.0      7922          4          4   \n",
       "\n",
       "   land_slope  overall_qual  overall_cond  ...  misc_feature_Shed  \\\n",
       "0           3             6             8  ...                  0   \n",
       "1           3             7             5  ...                  0   \n",
       "2           3             5             7  ...                  0   \n",
       "\n",
       "   misc_feature_TenC  sale_type_CWD  sale_type_Con  sale_type_ConLD  \\\n",
       "0                  0              0              0                0   \n",
       "1                  0              0              0                0   \n",
       "2                  0              0              0                0   \n",
       "\n",
       "   sale_type_ConLI  sale_type_ConLw  sale_type_New  sale_type_Oth  \\\n",
       "0                0                0              0              0   \n",
       "1                0                0              0              0   \n",
       "2                0                0              0              0   \n",
       "\n",
       "   sale_type_WD   \n",
       "0              1  \n",
       "1              1  \n",
       "2              1  \n",
       "\n",
       "[3 rows x 200 columns]"
      ]
     },
     "execution_count": 6,
     "metadata": {},
     "output_type": "execute_result"
    }
   ],
   "source": [
    "# One-hot encoded categorical variables\n",
    "dummy_df = pd.get_dummies(data=cleaned_data, columns=cat_col, drop_first=True)\n",
    "\n",
    "# Check code execution\n",
    "dummy_df.head(3)"
   ]
  },
  {
   "cell_type": "markdown",
   "metadata": {},
   "source": [
    "### Modeling"
   ]
  },
  {
   "cell_type": "markdown",
   "metadata": {},
   "source": [
    "**Note:** I will be focusing on the R-squared and RMSE regression metrics for evaluating my models. The R-squared will allow me to understand the amount of variability in sale price that can be explained by my features, and the RMSE will represent the average distance between the predicted and actual sale price in dollars."
   ]
  },
  {
   "cell_type": "markdown",
   "metadata": {},
   "source": [
    ">References: https://git.generalassemb.ly/DSIR-Lancelot/4.02-lesson-regularization/blob/master/starter-code-Adi-InClass.ipynb, https://git.generalassemb.ly/DSIR-Lancelot/3.03-lesson-regression-metrics/blob/master/starter-code-Adi-InClass.ipynb, https://git.generalassemb.ly/DSIR-Lancelot/3.05-lesson-train-test-split-cross-validation, https://git.generalassemb.ly/DSIR-Lancelot/3.06-lesson-feature-engineering"
   ]
  },
  {
   "cell_type": "markdown",
   "metadata": {},
   "source": [
    "#### The Null Model"
   ]
  },
  {
   "cell_type": "code",
   "execution_count": 7,
   "metadata": {},
   "outputs": [
    {
     "data": {
      "text/plain": [
       "0.0"
      ]
     },
     "execution_count": 7,
     "metadata": {},
     "output_type": "execute_result"
    }
   ],
   "source": [
    "# Define y\n",
    "y = cleaned_data['saleprice']\n",
    "\n",
    "# Create a new column for the baseline target variable\n",
    "cleaned_data['null_model'] = y.mean()\n",
    "\n",
    "# Predictions for the null model\n",
    "y_preds = cleaned_data['null_model']\n",
    "\n",
    "# Null R-squared\n",
    "metrics.r2_score(y, y_preds)"
   ]
  },
  {
   "cell_type": "code",
   "execution_count": 8,
   "metadata": {},
   "outputs": [
    {
     "data": {
      "text/plain": [
       "79262.712468226"
      ]
     },
     "execution_count": 8,
     "metadata": {},
     "output_type": "execute_result"
    }
   ],
   "source": [
    "# Null RMSE\n",
    "np.sqrt(metrics.mean_squared_error(y_true=y, y_pred=y_preds))"
   ]
  },
  {
   "cell_type": "markdown",
   "metadata": {},
   "source": [
    "**Interpretation:** The null model is unable to explain any of the variability in sale price (i.e. the R-squared of the test data is 0.0) and has a baseline RMSE of 79,262 USD. This means that any production model with an R-squared above 0.0 and an RMSE below 79,262 USD would be better than the null model."
   ]
  },
  {
   "cell_type": "markdown",
   "metadata": {},
   "source": [
    "#### Model 1: Linear Regression"
   ]
  },
  {
   "cell_type": "code",
   "execution_count": 9,
   "metadata": {},
   "outputs": [
    {
     "data": {
      "text/plain": [
       "(0.7833411692818817, 0.8503635651377472)"
      ]
     },
     "execution_count": 9,
     "metadata": {},
     "output_type": "execute_result"
    }
   ],
   "source": [
    "# Define X and y\n",
    "features = ['overall_qual', 'exter_qual', 'gr_liv_area', 'kitchen_qual', 'garage_area', 'total_bsmt_sf', '1st_flr_sf', 'bsmt_qual', 'year_built']\n",
    "X = cleaned_data[features]\n",
    "y = cleaned_data['saleprice']\n",
    "\n",
    "# train/test split\n",
    "X_train,X_test,y_train,y_test = train_test_split(X,y,random_state=42)\n",
    "\n",
    "# Instantiate and fit the model\n",
    "lr = LinearRegression()\n",
    "lr.fit(X_train,y_train)\n",
    "\n",
    "# Cross validation\n",
    "cross_val_score(estimator=lr,X=X_train,y=y_train).mean(), cross_val_score(estimator=lr,X=X_test,y=y_test).mean()"
   ]
  },
  {
   "cell_type": "code",
   "execution_count": 10,
   "metadata": {},
   "outputs": [
    {
     "data": {
      "text/plain": [
       "(0.7953846121216442, 0.8427127114280373)"
      ]
     },
     "execution_count": 10,
     "metadata": {},
     "output_type": "execute_result"
    }
   ],
   "source": [
    "# Find R-squared for training, testing data\n",
    "lr.score(X_train,y_train), lr.score(X_test,y_test)"
   ]
  },
  {
   "cell_type": "code",
   "execution_count": 11,
   "metadata": {},
   "outputs": [
    {
     "data": {
      "text/plain": [
       "(35614.62481936933, 32052.712661494665)"
      ]
     },
     "execution_count": 11,
     "metadata": {},
     "output_type": "execute_result"
    }
   ],
   "source": [
    "# Predicted y values\n",
    "y_pred = lr.predict(X_test)\n",
    "\n",
    "# Find RMSE for training, testing data\n",
    "np.sqrt(metrics.mean_squared_error(y_train,lr.predict(X_train))), np.sqrt(metrics.mean_squared_error(y_test,y_pred))"
   ]
  },
  {
   "cell_type": "markdown",
   "metadata": {},
   "source": [
    "**Interpretation:** Model 1 is a multiple linear regression model that utilizes 9 different features to predict sale price. These 9 features were selected based on domain knowledge and the Pearson correlation coefficient with sale price. An R-squared of 0.8427 for the test data means that 84.27% of the variability in sale price can be explained by the 9 features used for X. An RMSE of 32,052 USD means that the predictions are typically off from the actual sale prices by 32,052 USD. The R-squared for the test data is higher than that for the training data, which is more ideal than the reverse situation because it implies that the model can generalize well to new data. The RMSE for the test data is lower than that for the training data. This also indicates that the model can generalize well to new data. The RMSE, which is the regression metric with which I am most concerned in this analysis, is a bit high considering that the optimal theoretical value is 0 USD. Overall, this is a strong model, but the RMSE is too high to consider this a production model."
   ]
  },
  {
   "cell_type": "markdown",
   "metadata": {},
   "source": [
    "#### Model 2: Ridge Regression"
   ]
  },
  {
   "cell_type": "code",
   "execution_count": 12,
   "metadata": {},
   "outputs": [
    {
     "data": {
      "text/plain": [
       "(0.8799385946003676, 0.8912130125475635)"
      ]
     },
     "execution_count": 12,
     "metadata": {},
     "output_type": "execute_result"
    }
   ],
   "source": [
    "# Define X and y\n",
    "features = ['overall_qual', 'exter_qual', 'gr_liv_area', 'kitchen_qual', 'garage_area', 'total_bsmt_sf', '1st_flr_sf', 'bsmt_qual', 'year_built']\n",
    "X = cleaned_data[features]\n",
    "y = cleaned_data['saleprice']\n",
    "\n",
    "# Instantiate and fit PolynomialFeatures (i.e. feature engineering)\n",
    "pf = PolynomialFeatures(degree=2,include_bias=False)\n",
    "X_pf = pf.fit_transform(X)\n",
    "\n",
    "# train/test split\n",
    "X_train,X_test,y_train,y_test = train_test_split(X_pf,y,random_state=42)\n",
    "\n",
    "# Scale the data with StandardScaler\n",
    "ss = StandardScaler()\n",
    "Z_train = ss.fit_transform(X_train)\n",
    "Z_test = ss.transform(X_test)\n",
    "\n",
    "# Ridge - find the optimal alpha\n",
    "r_alphas = np.logspace(0,5,100)\n",
    "ridge_cv = RidgeCV(alphas=r_alphas,scoring='r2',cv=5)\n",
    "ridge_cv.fit(Z_train,y_train)\n",
    "\n",
    "# Ridge - optimal alpha\n",
    "ridge_cv.alpha_\n",
    "\n",
    "# Instantiate and fit Ridge using the optimal alpha\n",
    "ridge = Ridge(alpha=ridge_cv.alpha_)\n",
    "ridge.fit(Z_train,y_train)\n",
    "ridge.score(Z_train,y_train), ridge.score(Z_test,y_test)"
   ]
  },
  {
   "cell_type": "code",
   "execution_count": 13,
   "metadata": {},
   "outputs": [
    {
     "data": {
      "text/plain": [
       "(27281.04107128179, 26656.704186109597)"
      ]
     },
     "execution_count": 13,
     "metadata": {},
     "output_type": "execute_result"
    }
   ],
   "source": [
    "# Predicted y values\n",
    "y_pred = ridge.predict(Z_test)\n",
    "\n",
    "# RMSE for training, testing data\n",
    "np.sqrt(metrics.mean_squared_error(y_train,ridge.predict(Z_train))), np.sqrt(metrics.mean_squared_error(y_test,y_pred))"
   ]
  },
  {
   "cell_type": "markdown",
   "metadata": {},
   "source": [
    "**Interpretation:** Model 2 is a ridge regression model that utilizes the same 9 features from Model 1, feature engineering, scaling, and L2 regularization to predict sale price. I employed feature engineering to create interaction terms that add a level of complexity to the model. In addition, I scaled the data since I used ridge regression for regularization and wanted to avoid punishing my features for their magnitude. I also optimized the regularization strength, alpha, to solve for overfitting.\n",
    "\n",
    "This is definitely a stronger prediction model than Model 1, as evidenced by the higher R-squared of 0.89 and lower RMSE test value of 26,656 USD. The R-squared and RMSE for the testing data are higher than those for the training data, which suggests that the model is generalizing well to new data. Overall, this is a fairly robust model at prediction. There is, however, room for improvement, and I would want to explore additional features or models."
   ]
  },
  {
   "cell_type": "markdown",
   "metadata": {},
   "source": [
    "#### Model 3: LASSO Regression"
   ]
  },
  {
   "cell_type": "code",
   "execution_count": 14,
   "metadata": {},
   "outputs": [
    {
     "name": "stderr",
     "output_type": "stream",
     "text": [
      "/Users/seungwoochoi/opt/anaconda3/lib/python3.8/site-packages/sklearn/linear_model/_coordinate_descent.py:529: ConvergenceWarning: Objective did not converge. You might want to increase the number of iterations. Duality gap: 442844285816.14856, tolerance: 949679845.547428\n",
      "  model = cd_fast.enet_coordinate_descent(\n"
     ]
    },
    {
     "data": {
      "text/plain": [
       "Lasso(max_iter=10000)"
      ]
     },
     "execution_count": 14,
     "metadata": {},
     "output_type": "execute_result"
    }
   ],
   "source": [
    "# Define X and y\n",
    "features = ['overall_qual', 'exter_qual', 'gr_liv_area', 'kitchen_qual', 'garage_area', 'total_bsmt_sf', '1st_flr_sf', 'bsmt_qual', 'year_built']\n",
    "X = cleaned_data[features]\n",
    "y = cleaned_data['saleprice']\n",
    "\n",
    "# Instantiate and fit PolynomialFeatures\n",
    "pf = PolynomialFeatures(degree=2,include_bias=False)\n",
    "X_pf = pf.fit_transform(X)\n",
    "\n",
    "# train/test split\n",
    "X_train,X_test,y_train,y_test = train_test_split(X_pf,y,random_state=42)\n",
    "\n",
    "# Scale the data\n",
    "ss = StandardScaler()\n",
    "Z_train = ss.fit_transform(X_train)\n",
    "Z_test = ss.transform(X_test)\n",
    "\n",
    "# Instantiate and fit LASSO\n",
    "# Received help from Ryan McDonald on code: max_iter=10_000\n",
    "lasso = Lasso(max_iter=10_000)\n",
    "lasso.fit(Z_train,y_train)"
   ]
  },
  {
   "cell_type": "code",
   "execution_count": 15,
   "metadata": {},
   "outputs": [
    {
     "data": {
      "text/plain": [
       "(0.8868572802213167, 0.889958044918791)"
      ]
     },
     "execution_count": 15,
     "metadata": {},
     "output_type": "execute_result"
    }
   ],
   "source": [
    "# LASSO R-squared\n",
    "lasso.score(Z_train,y_train), lasso.score(Z_test,y_test)"
   ]
  },
  {
   "cell_type": "code",
   "execution_count": 16,
   "metadata": {},
   "outputs": [
    {
     "data": {
      "text/plain": [
       "(26483.32652518674, 26810.019278042124)"
      ]
     },
     "execution_count": 16,
     "metadata": {},
     "output_type": "execute_result"
    }
   ],
   "source": [
    "# Predicted y values\n",
    "y_pred = lasso.predict(Z_test)\n",
    "\n",
    "# RMSE for training, testing data\n",
    "np.sqrt(metrics.mean_squared_error(y_train,lasso.predict(Z_train))), np.sqrt(metrics.mean_squared_error(y_test,y_pred))"
   ]
  },
  {
   "cell_type": "markdown",
   "metadata": {},
   "source": [
    "**Interpretation:** Model 3 is a lasso regression model that employs the same 9 features from Model 1, feature engineering, scaling, and L1 regularization to predict sale price. This model works just like Model 2 does with the exception of using LASSO regression instead of ridge regression. The difference is that LASSO regression helps with feature selection, whereas ridge regression helps with the issue of multicollinearity. \n",
    "\n",
    "In terms of performance, the training and testing data for both R-squared and RMSE are very similar, which means that the model generalizes well to new data and has achieved a balance between underfitting and overfitting. In addition, an R-squared of 0.8899 and an RMSE of 26,810 USD for the test data are fairly solid results. While Model 3 does a solid job at predicting housing sale prices, the results have to be discarded due to the issues with convergence."
   ]
  },
  {
   "cell_type": "markdown",
   "metadata": {},
   "source": [
    "#### Model 4: Ridge Regression with Additional Features"
   ]
  },
  {
   "cell_type": "code",
   "execution_count": 17,
   "metadata": {},
   "outputs": [
    {
     "data": {
      "text/plain": [
       "(0.900819156089216, 0.9087723186165432)"
      ]
     },
     "execution_count": 17,
     "metadata": {},
     "output_type": "execute_result"
    }
   ],
   "source": [
    "# Define X and y\n",
    "features = ['mod_neighborhood','overall_qual', 'exter_qual', 'gr_liv_area', 'kitchen_qual', \n",
    "            'garage_area', 'total_bsmt_sf', '1st_flr_sf', 'bsmt_qual', 'year_built', \n",
    "            'full_bath', 'garage_finish', 'totrms_abvgrd', 'bsmt_exposure']\n",
    "X = cleaned_data[features]\n",
    "y = cleaned_data['saleprice']\n",
    "\n",
    "# Instantiate and fit PolynomialFeatures (i.e. feature engineering)\n",
    "pf = PolynomialFeatures(degree=2,include_bias=False)\n",
    "X_pf = pf.fit_transform(X)\n",
    "\n",
    "# train/test split\n",
    "X_train,X_test,y_train,y_test = train_test_split(X_pf,y,random_state=42)\n",
    "\n",
    "# Scale the data with StandardScaler\n",
    "ss = StandardScaler()\n",
    "Z_train = ss.fit_transform(X_train)\n",
    "Z_test = ss.transform(X_test)\n",
    "\n",
    "# Ridge - find the optimal alpha\n",
    "r_alphas = np.logspace(0,5,100)\n",
    "ridge_cv = RidgeCV(alphas=r_alphas,scoring='r2',cv=5)\n",
    "ridge_cv.fit(Z_train,y_train)\n",
    "\n",
    "# Ridge - optimal alpha\n",
    "ridge_cv.alpha_\n",
    "\n",
    "# Instantiate and fit Ridge using the optimal alpha\n",
    "ridge = Ridge(alpha=ridge_cv.alpha_)\n",
    "ridge.fit(Z_train,y_train)\n",
    "ridge.score(Z_train,y_train), ridge.score(Z_test,y_test)"
   ]
  },
  {
   "cell_type": "code",
   "execution_count": 18,
   "metadata": {},
   "outputs": [
    {
     "data": {
      "text/plain": [
       "(24795.514697789768, 24410.759722702358)"
      ]
     },
     "execution_count": 18,
     "metadata": {},
     "output_type": "execute_result"
    }
   ],
   "source": [
    "# Predicted y values\n",
    "y_pred = ridge.predict(Z_test)\n",
    "\n",
    "# RMSE for training, testing data\n",
    "np.sqrt(metrics.mean_squared_error(y_train,ridge.predict(Z_train))), np.sqrt(metrics.mean_squared_error(y_test,y_pred))"
   ]
  },
  {
   "cell_type": "code",
   "execution_count": 19,
   "metadata": {},
   "outputs": [],
   "source": [
    "# Create a new dataframe for ridge coefficients\n",
    "ridge_df = pd.DataFrame(ridge.coef_,columns=['coefficient'],index=pf.get_feature_names(X.columns))"
   ]
  },
  {
   "cell_type": "code",
   "execution_count": 20,
   "metadata": {},
   "outputs": [
    {
     "data": {
      "text/plain": [
       "(119, 1)"
      ]
     },
     "execution_count": 20,
     "metadata": {},
     "output_type": "execute_result"
    }
   ],
   "source": [
    "# Shape of dataframe\n",
    "ridge_df.shape"
   ]
  },
  {
   "cell_type": "code",
   "execution_count": 21,
   "metadata": {},
   "outputs": [
    {
     "data": {
      "text/html": [
       "<div>\n",
       "<style scoped>\n",
       "    .dataframe tbody tr th:only-of-type {\n",
       "        vertical-align: middle;\n",
       "    }\n",
       "\n",
       "    .dataframe tbody tr th {\n",
       "        vertical-align: top;\n",
       "    }\n",
       "\n",
       "    .dataframe thead th {\n",
       "        text-align: right;\n",
       "    }\n",
       "</style>\n",
       "<table border=\"1\" class=\"dataframe\">\n",
       "  <thead>\n",
       "    <tr style=\"text-align: right;\">\n",
       "      <th></th>\n",
       "      <th>coefficient</th>\n",
       "    </tr>\n",
       "  </thead>\n",
       "  <tbody>\n",
       "    <tr>\n",
       "      <th>mod_neighborhood total_bsmt_sf</th>\n",
       "      <td>15711.950646</td>\n",
       "    </tr>\n",
       "    <tr>\n",
       "      <th>gr_liv_area full_bath</th>\n",
       "      <td>13990.024975</td>\n",
       "    </tr>\n",
       "    <tr>\n",
       "      <th>gr_liv_area kitchen_qual</th>\n",
       "      <td>12324.653589</td>\n",
       "    </tr>\n",
       "    <tr>\n",
       "      <th>overall_qual gr_liv_area</th>\n",
       "      <td>9738.006390</td>\n",
       "    </tr>\n",
       "    <tr>\n",
       "      <th>mod_neighborhood gr_liv_area</th>\n",
       "      <td>8737.171097</td>\n",
       "    </tr>\n",
       "  </tbody>\n",
       "</table>\n",
       "</div>"
      ],
      "text/plain": [
       "                                 coefficient\n",
       "mod_neighborhood total_bsmt_sf  15711.950646\n",
       "gr_liv_area full_bath           13990.024975\n",
       "gr_liv_area kitchen_qual        12324.653589\n",
       "overall_qual gr_liv_area         9738.006390\n",
       "mod_neighborhood gr_liv_area     8737.171097"
      ]
     },
     "execution_count": 21,
     "metadata": {},
     "output_type": "execute_result"
    }
   ],
   "source": [
    "# Coefficients listed in descending order\n",
    "# Positive sign indicates positive correlation with sale price\n",
    "ridge_df.sort_values(by='coefficient',ascending=False).head(5)"
   ]
  },
  {
   "cell_type": "code",
   "execution_count": 22,
   "metadata": {},
   "outputs": [
    {
     "data": {
      "text/html": [
       "<div>\n",
       "<style scoped>\n",
       "    .dataframe tbody tr th:only-of-type {\n",
       "        vertical-align: middle;\n",
       "    }\n",
       "\n",
       "    .dataframe tbody tr th {\n",
       "        vertical-align: top;\n",
       "    }\n",
       "\n",
       "    .dataframe thead th {\n",
       "        text-align: right;\n",
       "    }\n",
       "</style>\n",
       "<table border=\"1\" class=\"dataframe\">\n",
       "  <thead>\n",
       "    <tr style=\"text-align: right;\">\n",
       "      <th></th>\n",
       "      <th>coefficient</th>\n",
       "    </tr>\n",
       "  </thead>\n",
       "  <tbody>\n",
       "    <tr>\n",
       "      <th>total_bsmt_sf 1st_flr_sf</th>\n",
       "      <td>-11309.822181</td>\n",
       "    </tr>\n",
       "    <tr>\n",
       "      <th>total_bsmt_sf^2</th>\n",
       "      <td>-11195.996415</td>\n",
       "    </tr>\n",
       "    <tr>\n",
       "      <th>gr_liv_area 1st_flr_sf</th>\n",
       "      <td>-8790.476789</td>\n",
       "    </tr>\n",
       "    <tr>\n",
       "      <th>gr_liv_area total_bsmt_sf</th>\n",
       "      <td>-8586.473583</td>\n",
       "    </tr>\n",
       "    <tr>\n",
       "      <th>mod_neighborhood full_bath</th>\n",
       "      <td>-8042.248904</td>\n",
       "    </tr>\n",
       "  </tbody>\n",
       "</table>\n",
       "</div>"
      ],
      "text/plain": [
       "                             coefficient\n",
       "total_bsmt_sf 1st_flr_sf   -11309.822181\n",
       "total_bsmt_sf^2            -11195.996415\n",
       "gr_liv_area 1st_flr_sf      -8790.476789\n",
       "gr_liv_area total_bsmt_sf   -8586.473583\n",
       "mod_neighborhood full_bath  -8042.248904"
      ]
     },
     "execution_count": 22,
     "metadata": {},
     "output_type": "execute_result"
    }
   ],
   "source": [
    "# Coefficients listed in ascending order\n",
    "# Negative sign indicates negative correlation with sale price\n",
    "ridge_df.sort_values(by='coefficient',ascending=True).head(5)"
   ]
  },
  {
   "cell_type": "markdown",
   "metadata": {},
   "source": [
    "**Note on ridge coefficients:** Given that none of the coefficients in Model 4 shrank to 0, it seems that all interaction terms played some sort of role in influencing the predictive capabilities of the model."
   ]
  },
  {
   "cell_type": "markdown",
   "metadata": {},
   "source": [
    "**Interpretation:** Model 4 is a ridge regression model that utilizes 14 features (9 of which are from Model 1), feature engineering, scaling, and L2 regularization to predict sale price. Since this model has the highest R-squared of 0.908 and the lowest RMSE of 24,410 USD for test data, I will use this as my production model. The two metrics for the test data are more favorable than those for the training data, which tells me that the model has achieved a balance between underfitting and overfitting. An RMSE of 24,410 USD is excellent given the limitations of this regression metric in the presence of outliers."
   ]
  },
  {
   "cell_type": "markdown",
   "metadata": {},
   "source": [
    "### Model 5: k-Nearest Neighbors Regressor"
   ]
  },
  {
   "cell_type": "code",
   "execution_count": 23,
   "metadata": {},
   "outputs": [],
   "source": [
    "# Define X and y\n",
    "features = ['mod_neighborhood','overall_qual', 'exter_qual', 'gr_liv_area', 'kitchen_qual', \n",
    "            'garage_area', 'total_bsmt_sf', '1st_flr_sf', 'bsmt_qual', 'year_built', \n",
    "            'full_bath', 'garage_finish', 'totrms_abvgrd', 'bsmt_exposure']\n",
    "X = cleaned_data[features]\n",
    "y = cleaned_data['saleprice']\n",
    "\n",
    "# train/test split\n",
    "X_train,X_test,y_train,y_test = train_test_split(X,y,random_state=42)"
   ]
  },
  {
   "cell_type": "code",
   "execution_count": 24,
   "metadata": {},
   "outputs": [
    {
     "name": "stdout",
     "output_type": "stream",
     "text": [
      "Fitting 5 folds for each of 64 candidates, totalling 320 fits\n"
     ]
    },
    {
     "name": "stderr",
     "output_type": "stream",
     "text": [
      "[Parallel(n_jobs=1)]: Using backend SequentialBackend with 1 concurrent workers.\n",
      "[Parallel(n_jobs=1)]: Done 320 out of 320 | elapsed:    6.3s finished\n"
     ]
    },
    {
     "data": {
      "text/plain": [
       "(0.9997803409642263, 0.9043558354720969)"
      ]
     },
     "execution_count": 24,
     "metadata": {},
     "output_type": "execute_result"
    }
   ],
   "source": [
    "# Instantiate a pipeline for standard scaler and KNN\n",
    "pipe = Pipeline([\n",
    "    ('sc', StandardScaler()),\n",
    "    ('knn', KNeighborsRegressor())\n",
    "])\n",
    "\n",
    "# Pipe parameters\n",
    "pipe_params = {'sc__with_mean': [True, False],\n",
    "               'sc__with_std': [True, False],\n",
    "               'knn__n_neighbors': [5,10,15,20],\n",
    "              'knn__weights': ['uniform', 'distance'],\n",
    "              'knn__p': [1,2]}\n",
    "\n",
    "pipe_gs = GridSearchCV(estimator=pipe,\n",
    "                      param_grid=pipe_params,\n",
    "                      cv=5,\n",
    "                      verbose=1)\n",
    "\n",
    "# Fit pipeline\n",
    "pipe_gs.fit(X_train, y_train)\n",
    "\n",
    "# Score pipeline\n",
    "pipe_gs.score(X_train, y_train), pipe_gs.score(X_test, y_test)"
   ]
  },
  {
   "cell_type": "code",
   "execution_count": 25,
   "metadata": {},
   "outputs": [],
   "source": [
    "# Predicted y values\n",
    "pipe_gs_preds = pipe_gs.predict(X_test)"
   ]
  },
  {
   "cell_type": "code",
   "execution_count": 26,
   "metadata": {},
   "outputs": [
    {
     "data": {
      "text/plain": [
       "(1166.9003348304122, 24994.659013216984)"
      ]
     },
     "execution_count": 26,
     "metadata": {},
     "output_type": "execute_result"
    }
   ],
   "source": [
    "# RMSE for training, testing data\n",
    "np.sqrt(metrics.mean_squared_error(y_train,pipe_gs.predict(X_train))), np.sqrt(metrics.mean_squared_error(y_test,pipe_gs_preds))"
   ]
  },
  {
   "cell_type": "markdown",
   "metadata": {},
   "source": [
    "**Interpretation:** Model 5 is a regression model based on k-nearest neighbors. It utilizes the same 14 features from Model 4, scaling, and a pipeline that enables gridsearch to iterate over different hyperparameters to determine an optimal model for predicting sale price. The R-squared and RMSE for the training and testing data are both quite overfit. While the R-squared of 0.904 and RMSE of 24,994 USD for the test data exceed the expectations set in the problem statement, Model 4 is a superior model in that it has less variance between the training and testing datasets compared to Model 5."
   ]
  },
  {
   "cell_type": "markdown",
   "metadata": {},
   "source": [
    "#### Production Model"
   ]
  },
  {
   "cell_type": "markdown",
   "metadata": {},
   "source": [
    "In the problem statement, I stated that my goal is to build a regression model capable of predicting actual housing sale prices in Ames, Iowa within 25,000 USD. Through multiple rounds of model tuning, I identified at least one model - i.e. Model 4 - that adequately achieves this goal. Of the five models I have explored, the ridge regression model with 14 features performs the best under my evaluation metrics. Despite the limitations of outliers on RMSE and the high number of potential features, I have built a model that is typically 24,410 USD off from the actual sale price and can explain 90.8% of the variability in sale price using 14 features. For this reason, Model 4 is an excellent choice for the production model."
   ]
  },
  {
   "cell_type": "markdown",
   "metadata": {},
   "source": [
    "### Data Visualization"
   ]
  },
  {
   "cell_type": "code",
   "execution_count": 27,
   "metadata": {},
   "outputs": [
    {
     "data": {
      "image/png": "[encoded data removed]",
      "text/plain": [
       "<Figure size 432x288 with 1 Axes>"
      ]
     },
     "metadata": {
      "needs_background": "light"
     },
     "output_type": "display_data"
    }
   ],
   "source": [
    "# Scatter plot of actual vs. predicted sale price for test data using Model 4\n",
    "plt.figure(figsize=(6,4))\n",
    "sns.regplot(x=y_pred,y=y_test,data=cleaned_data, ci=None)\n",
    "plt.axhline(cleaned_data['saleprice'].mean(), color='orange')\n",
    "plt.xlabel('Predicted Sale Price')\n",
    "plt.ylabel('Actual Sale Price')\n",
    "plt.title('Production Model vs. Baseline Model');"
   ]
  },
  {
   "cell_type": "markdown",
   "metadata": {},
   "source": [
    "**Interpretation:** The scatter plot shows that the predicted sale prices of Model 4 and the actual sale prices have a linear relationship. The orange line represents the predictions from the baseline model. Model 4 is clearly better at predicting sale prices than the baseline model."
   ]
  },
  {
   "cell_type": "code",
   "execution_count": 28,
   "metadata": {},
   "outputs": [
    {
     "data": {
      "image/png": "[encoded data removed]",
      "text/plain": [
       "<Figure size 432x288 with 1 Axes>"
      ]
     },
     "metadata": {
      "needs_background": "light"
     },
     "output_type": "display_data"
    }
   ],
   "source": [
    "# Scatter plot of residuals for test data using Model 4\n",
    "residuals = y_test - y_pred\n",
    "plt.scatter(y_pred, residuals, s=1)\n",
    "plt.axhline(0, color=\"orange\");"
   ]
  },
  {
   "cell_type": "markdown",
   "metadata": {},
   "source": [
    "**Interpretation:** The scatter plot shows the residuals of the actual and predicted sale prices for the test data using Model 4. The distribution appears to be mostly random, but there are outliers in the upper price range that deviate from the trend."
   ]
  }
 ],
 "metadata": {
  "kernelspec": {
   "display_name": "Python 3",
   "language": "python",
   "name": "python3"
  },
  "language_info": {
   "codemirror_mode": {
    "name": "ipython",
    "version": 3
   },
   "file_extension": ".py",
   "mimetype": "text/x-python",
   "name": "python",
   "nbconvert_exporter": "python",
   "pygments_lexer": "ipython3",
   "version": "3.8.5"
  }
 },
 "nbformat": 4,
 "nbformat_minor": 4
}

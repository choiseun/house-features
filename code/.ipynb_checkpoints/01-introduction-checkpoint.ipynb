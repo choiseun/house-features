{
 "cells": [
  {
   "cell_type": "markdown",
   "metadata": {},
   "source": [
    "# Regression: Predicting House Sale Prices"
   ]
  },
  {
   "cell_type": "markdown",
   "metadata": {},
   "source": [
    "### Technology & Skills\n",
    "**Technical Skills:** Regression, Data Cleaning, Exploratory Data Analysis (EDA), Data Visualization, Machine Learning, Bias-Variance Tradeoff, Imputation Method, Model Validation, Statistics, Feature Engineering, Regularization, Ensemble Models, K-Means Clustering, Pipeline, GridSearch, Transfer Learning\n",
    "\n",
    "**Technology:** Python, Jupyter Notebook, GitHub, Git, Command Line\n",
    "\n",
    "**Python Libraries:** Pandas, NumPy, Sklearn, Matplotlib, Seaborn, SciPy\n",
    "\n",
    "**Models:** Multiple Linear Regression, Ridge Regression, LASSO Regression, k-Nearest Neighbors Regressor, Random Forest Regressor, Extra Trees Regressor, Support Vector Regressor, XGBoost Regressor, Principal Components Regression"
   ]
  },
  {
   "cell_type": "markdown",
   "metadata": {},
   "source": [
    "### Overview\n",
    "The notebooks have been organized into 4 sections:\n",
    "1. Introduction\n",
    "2. Data Cleaning, EDA & Data Visualization\n",
    "3. Pre-Processing & Modeling\n",
    "4. Conclusion\n",
    "\n",
    "**Note:** This project was adapted from a Kaggle competition with the primary objective of predicting the sale price of houses in Ames, Iowa with RMSE as the main evaluation metric."
   ]
  },
  {
   "cell_type": "markdown",
   "metadata": {},
   "source": [
    "### Problem Statement\n",
    "My goal for this project is to build a regression model that can predict the actual sale price of houses in Ames, Iowa within 25,000 USD. The main metrics I will use to evaluate the accuracy of my model include the root mean squared error (RMSE) and the coefficient of determination (R-squared). The RMSE represents the average distance between the predicted and actual sale prices in USD, and the R-squared represents the variability in sale price that can be explained by the features I incorporate in my model. A limitation of the RMSE is that it is heavily affected by outliers, which I expect to be present in the data.\n",
    "\n",
    "As a data scientist consulting a real estate agency on house prices, I hope to use my insights to inform real estate agents and homeowners on the expected sale price of their houses and the features that contribute the most value to sale price so that the homeowners can selectively renovate certain features prior to selling."
   ]
  },
  {
   "cell_type": "markdown",
   "metadata": {},
   "source": [
    "### Data Sources\n",
    "One csv file was used for this project. The dataset can be found [here](https://www.kaggle.com/c/dsir-lancelot-project-2-regression-challenge/data).\n",
    "- train.csv: This file contains all the data for my model."
   ]
  },
  {
   "cell_type": "markdown",
   "metadata": {},
   "source": [
    "### Data Dictionary\n",
    "The data dictionary can be found [here](https://www.kaggle.com/c/dsir-lancelot-project-2-regression-challenge/data)."
   ]
  }
 ],
 "metadata": {
  "kernelspec": {
   "display_name": "Python 3",
   "language": "python",
   "name": "python3"
  },
  "language_info": {
   "codemirror_mode": {
    "name": "ipython",
    "version": 3
   },
   "file_extension": ".py",
   "mimetype": "text/x-python",
   "name": "python",
   "nbconvert_exporter": "python",
   "pygments_lexer": "ipython3",
   "version": "3.8.5"
  }
 },
 "nbformat": 4,
 "nbformat_minor": 4
}

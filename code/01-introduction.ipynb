{
 "cells": [
  {
   "cell_type": "markdown",
   "metadata": {},
   "source": [
    "# Regression: Predicting House Sale Prices"
   ]
  },
  {
   "cell_type": "markdown",
   "metadata": {},
   "source": [
    "### Technology & Skills\n",
    "**Technical Skills:** Regression, data cleaning, exploratory data analysis (EDA), data visualization, machine learning, bias-variance tradeoff, imputation method, model validation, statistics, feature engineering, regularization, ensemble models, k-means clustering, pipeline, gridsearch, transfer learning\n",
    "\n",
    "**Technology:** Python, Jupyter Notebook, GitHub, Git\n",
    "\n",
    "**Python Libraries:** Pandas, numpy, sklearn, matplotlib, seaborn, scipy\n",
    "\n",
    "**Models:** Multiple linear regression, ridge regression, LASSO regression, k-nearest neighbors regressor, random forest regressor, extra trees regressor, support vector regressor, xgboost regressor, principal components regression"
   ]
  },
  {
   "cell_type": "markdown",
   "metadata": {},
   "source": [
    "### Overview\n",
    "The notebooks have been organized into 4 sections:\n",
    "1. Introduction\n",
    "2. Data Cleaning, EDA & Data Visualization\n",
    "3. Pre-Processing & Modeling\n",
    "4. Conclusion\n",
    "\n",
    "**Note:** This project was adapted from a Kaggle competition with the primary objective of predicting the sale price of houses in Ames, Iowa with RMSE as the main evaluation metric."
   ]
  },
  {
   "cell_type": "markdown",
   "metadata": {},
   "source": [
    "### Problem Statement\n",
    "My goal for this project is to build a regression model that can predict the actual sale price of houses in Ames, Iowa within 25,000 USD. The main metrics I will use to evaluate the accuracy of my model include the root mean squared error (RMSE) and the coefficient of determination (R-squared). The RMSE represents the average distance between the predicted and actual sale prices in USD, and the R-squared represents the variability in sale price that can be explained by the features I incorporate in my model. A limitation of the RMSE is that it is heavily affected by outliers, which I expect to be present in the data.\n",
    "\n",
    "As a data scientist consulting a real estate agency on house prices, I hope to use my insights to inform real estate agents and homeowners on the expected sale price of their houses and the features that contribute the most value to sale price so that the homeowners can selectively renovate certain features prior to selling."
   ]
  },
  {
   "cell_type": "markdown",
   "metadata": {},
   "source": [
    "### Data Sources\n",
    "One csv file was used for this project. The dataset can be found [here](https://www.kaggle.com/c/dsir-lancelot-project-2-regression-challenge/data).\n",
    "- train.csv: This file contains all the data for my model."
   ]
  },
  {
   "cell_type": "markdown",
   "metadata": {},
   "source": [
    "### Data Dictionary\n",
    "The data dictionary can be found [here](https://www.kaggle.com/c/dsir-lancelot-project-2-regression-challenge/data)."
   ]
  }
 ],
 "metadata": {
  "kernelspec": {
   "display_name": "Python 3",
   "language": "python",
   "name": "python3"
  },
  "language_info": {
   "codemirror_mode": {
    "name": "ipython",
    "version": 3
   },
   "file_extension": ".py",
   "mimetype": "text/x-python",
   "name": "python",
   "nbconvert_exporter": "python",
   "pygments_lexer": "ipython3",
   "version": "3.8.5"
  }
 },
 "nbformat": 4,
 "nbformat_minor": 4
}

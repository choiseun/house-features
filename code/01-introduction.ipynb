{
 "cells": [
  {
   "cell_type": "markdown",
   "metadata": {},
   "source": [
    "# Renovating the Features of a House That Matter"
   ]
  },
  {
   "cell_type": "markdown",
   "metadata": {},
   "source": [
    "### Overview"
   ]
  },
  {
   "cell_type": "markdown",
   "metadata": {},
   "source": [
    "The notebooks have been divided into 5 sections:\n",
    "1. Introduction\n",
    "2. Data Cleaning & EDA\n",
    "3. Pre-Processing, Modeling & Data Visualization\n",
    "4. Conclusion\n",
    "5. Kaggle Submission"
   ]
  },
  {
   "cell_type": "markdown",
   "metadata": {},
   "source": [
    "**Note:** This project was originally part of an online Kaggle competition with a primary objective of predicting the price of homes on sale using the Ames, Iowa housing dataset. Any references made to Kaggle in this project can be understood to be part of the online competition."
   ]
  },
  {
   "cell_type": "markdown",
   "metadata": {},
   "source": [
    "### Problem Statement"
   ]
  },
  {
   "cell_type": "markdown",
   "metadata": {},
   "source": [
    "My goal for this project is to create a regression model that can predict the actual sale price of houses in Ames, Iowa within 25,000 USD. The main metrics I will use to evaluate the accuracy of my model include the root mean squared error (RMSE) and the coefficient of determination (R-squared). The RMSE represents the average distance between the predicted and actual sale prices in USD, and R-squared represents the variability in sale price that can be explained by the features I incorporate in my model. A limitation of the RMSE that will play an important role in determining the robustness of my model is that the RMSE is heavily affected by outliers, and I expect outliers to be present in the data. In order to construct a model that reflects mostly signal as opposed to noise, I will utilize a minimal number of features to build my model. \n",
    "\n",
    "As a data scientist consulting a real estate agency on house prices, I hope to use my insights to inform real estate agents and homeowners who are looking to sell their houses of the features that contribute the most value to sale price so that they can selectively renovate certain features prior to selling."
   ]
  },
  {
   "cell_type": "markdown",
   "metadata": {},
   "source": [
    "### Data Sources"
   ]
  },
  {
   "cell_type": "markdown",
   "metadata": {},
   "source": [
    "Three files were used for this project. The link to the files has been added [here](https://www.kaggle.com/c/dsir-lancelot-project-2-regression-challenge/data).\n",
    "- train.csv: This file contains all of the training data for my model.\n",
    "- test.csv: This file contains the test data for my model. The target variable, sale price, has been removed from the test set.\n",
    "- sample_sub_reg.csv: This file contains an example of a properly formatted Kaggle submission."
   ]
  },
  {
   "cell_type": "markdown",
   "metadata": {},
   "source": [
    "### Data Dictionary"
   ]
  },
  {
   "cell_type": "markdown",
   "metadata": {},
   "source": [
    "The link to Kaggle's data dictionary can be found [here](https://www.kaggle.com/c/dsir-lancelot-project-2-regression-challenge/data)."
   ]
  }
 ],
 "metadata": {
  "kernelspec": {
   "display_name": "Python 3",
   "language": "python",
   "name": "python3"
  },
  "language_info": {
   "codemirror_mode": {
    "name": "ipython",
    "version": 3
   },
   "file_extension": ".py",
   "mimetype": "text/x-python",
   "name": "python",
   "nbconvert_exporter": "python",
   "pygments_lexer": "ipython3",
   "version": "3.8.5"
  }
 },
 "nbformat": 4,
 "nbformat_minor": 4
}
